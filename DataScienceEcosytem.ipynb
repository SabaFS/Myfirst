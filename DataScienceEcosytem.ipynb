{
 "cells": [
  {
   "cell_type": "code",
   "execution_count": 1,
   "id": "45e61292",
   "metadata": {},
   "outputs": [
    {
     "name": "stdout",
     "output_type": "stream",
     "text": [
      "Hello World\n"
     ]
    }
   ],
   "source": [
    "print(\"Hello World\")\n"
   ]
  },
  {
   "cell_type": "markdown",
   "id": "de45ad49",
   "metadata": {},
   "source": [
    " ## Data Science Tools and Ecosystem\n",
    "\n",
    " \n",
    " "
   ]
  },
  {
   "cell_type": "code",
   "execution_count": null,
   "id": "e5ab4694",
   "metadata": {},
   "outputs": [],
   "source": []
  },
  {
   "cell_type": "markdown",
   "id": "065a46b8",
   "metadata": {},
   "source": [
    "## Introduction\n",
    "\n",
    "In this notebook, Data Science Tools and Ecosystem are summarized.\n"
   ]
  },
  {
   "cell_type": "markdown",
   "id": "dd435a02",
   "metadata": {},
   "source": [
    "## Data Science Languages\n",
    "\n",
    "Some of the popular languages that Data Scientists use are:\n",
    "\n",
    "1)Python\n",
    "2)R\n",
    "3)SQL\n"
   ]
  },
  {
   "cell_type": "markdown",
   "id": "cca597c0",
   "metadata": {},
   "source": [
    "## Data Science Libraries\n",
    "\n",
    "Some of the commonly used libraries used by Data Scientists include:\n",
    "\n",
    "1)Pandas\n",
    "2)Scikit-learn\n",
    "3)NumPy\n"
   ]
  },
  {
   "cell_type": "markdown",
   "id": "b2b51e9d",
   "metadata": {},
   "source": [
    "## Data Science Tools"
   ]
  },
  {
   "cell_type": "code",
   "execution_count": 2,
   "id": "5c822c6b",
   "metadata": {
    "scrolled": true
   },
   "outputs": [
    {
     "ename": "SyntaxError",
     "evalue": "invalid syntax (1892800436.py, line 1)",
     "output_type": "error",
     "traceback": [
      "\u001b[1;36m  Cell \u001b[1;32mIn[2], line 1\u001b[1;36m\u001b[0m\n\u001b[1;33m    | Tool              | Description                                           |\u001b[0m\n\u001b[1;37m    ^\u001b[0m\n\u001b[1;31mSyntaxError\u001b[0m\u001b[1;31m:\u001b[0m invalid syntax\n"
     ]
    }
   ],
   "source": [
    "| Tool              | Description                                           |\n",
    "| ----------------- | ----------------------------------------------------- |\n",
    "| Python            | General-purpose programming language                   |\n",
    "| R                 | Statistical programming language                       |\n",
    "| Jupyter Notebook  | Interactive computing environment                      |\n",
    "| NumPy             | Numerical computing library for Python                 |\n",
    "| Pandas            | Data manipulation and analysis library for Python      |\n",
    "| SciPy             | Scientific computing library for Python                |\n",
    "| Scikit-learn      | Machine learning library for Python                    |\n",
    "| TensorFlow        | Open-source machine learning framework                 |\n",
    "| Keras             | High-level neural networks API for TensorFlow          |\n",
    "| PyTorch           | Open-source machine learning library                   |\n",
    "| Tableau           | Data visualization and business intelligence tool      |\n",
    "| Power BI          | Business analytics tool by Microsoft                   |\n",
    "| Apache Spark      | Distributed data processing and analytics framework    |\n",
    "| SQL               | Standard language for managing relational databases    |\n",
    "| Hadoop            | Distributed storage and processing framework           |\n",
    "| MATLAB            | Numerical computing and programming environment        |\n",
    "| SAS               | Statistical analysis software                          |\n",
    "\n"
   ]
  },
  {
   "cell_type": "markdown",
   "id": "903362f6",
   "metadata": {},
   "source": [
    "## Introducing arithmetic expression examples\n",
    "\n",
    "Below are a few examples of evaluating arithmetic expressions in Python\n"
   ]
  },
  {
   "cell_type": "code",
   "execution_count": 8,
   "id": "c10d97d7",
   "metadata": {},
   "outputs": [
    {
     "data": {
      "text/plain": [
       "17"
      ]
     },
     "execution_count": 8,
     "metadata": {},
     "output_type": "execute_result"
    }
   ],
   "source": [
    "(3*4)+5 //This a simple arithmetic expression to mutiply then add integers"
   ]
  },
  {
   "cell_type": "code",
   "execution_count": 9,
   "id": "47ae3366",
   "metadata": {},
   "outputs": [
    {
     "name": "stdout",
     "output_type": "stream",
     "text": [
      "3.3333333333333335\n"
     ]
    }
   ],
   "source": [
    "minutes = 200\n",
    "\n",
    "hours = minutes / 60\n",
    "\n",
    "print(hours)"
   ]
  },
  {
   "cell_type": "markdown",
   "id": "5e8d6fc3",
   "metadata": {},
   "source": [
    "## Objectives:"
   ]
  },
  {
   "cell_type": "markdown",
   "id": "eb582730",
   "metadata": {},
   "source": [
    "- List popular languages for Data Science.\n",
    "- Explain the steps of a data science workflow.\n",
    "- Discuss common machine learning algorithms."
   ]
  },
  {
   "cell_type": "markdown",
   "id": "c66faf3e",
   "metadata": {},
   "source": [
    "## Author's name\n",
    "Saba Sayyed"
   ]
  },
  {
   "cell_type": "code",
   "execution_count": null,
   "id": "d25e1fa6",
   "metadata": {},
   "outputs": [],
   "source": []
  }
 ],
 "metadata": {
  "kernelspec": {
   "display_name": "Python 3 (ipykernel)",
   "language": "python",
   "name": "python3"
  },
  "language_info": {
   "codemirror_mode": {
    "name": "ipython",
    "version": 3
   },
   "file_extension": ".py",
   "mimetype": "text/x-python",
   "name": "python",
   "nbconvert_exporter": "python",
   "pygments_lexer": "ipython3",
   "version": "3.10.9"
  }
 },
 "nbformat": 4,
 "nbformat_minor": 5
}
